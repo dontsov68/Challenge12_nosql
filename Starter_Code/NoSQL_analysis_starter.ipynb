{
 "cells": [
  {
   "cell_type": "markdown",
   "id": "9a57c4c6",
   "metadata": {},
   "source": [
    "# Eat Safe, Love"
   ]
  },
  {
   "cell_type": "markdown",
   "id": "064ef857",
   "metadata": {},
   "source": [
    "## Notebook Set Up"
   ]
  },
  {
   "cell_type": "code",
   "execution_count": 209,
   "id": "e37b8ec2",
   "metadata": {},
   "outputs": [],
   "source": [
    "! mongoimport --type json -d uk_food -c establishments --drop --jsonArray ./../Resources/establishments.json"
   ]
  },
  {
   "cell_type": "code",
   "execution_count": 210,
   "id": "3ecdd008",
   "metadata": {},
   "outputs": [],
   "source": [
    "# Import dependencies\n",
    "from pymongo import MongoClient\n",
    "import json\n",
    "import requests \n",
    "from pprint import pprint"
   ]
  },
  {
   "cell_type": "code",
   "execution_count": 211,
   "id": "59390c4a",
   "metadata": {},
   "outputs": [],
   "source": [
    "# Create an instance of MongoClient\n",
    "mongo = MongoClient(port=27017)"
   ]
  },
  {
   "cell_type": "code",
   "execution_count": 212,
   "id": "71e373c1",
   "metadata": {},
   "outputs": [],
   "source": [
    "# assign the uk_food database to a variable name\n",
    "db = mongo['uk_food']"
   ]
  },
  {
   "cell_type": "code",
   "execution_count": 213,
   "id": "18ab463c",
   "metadata": {},
   "outputs": [
    {
     "name": "stdout",
     "output_type": "stream",
     "text": [
      "['establishments']\n"
     ]
    }
   ],
   "source": [
    "# review the collections in our database\n",
    "print(db.list_collection_names())"
   ]
  },
  {
   "cell_type": "code",
   "execution_count": 214,
   "id": "11c9f11b",
   "metadata": {},
   "outputs": [],
   "source": [
    "# assign the collection to a variable\n",
    "estab=db['establishments']"
   ]
  },
  {
   "cell_type": "markdown",
   "id": "d5671434",
   "metadata": {},
   "source": [
    "## Part 3: Exploratory Analysis\n",
    "Unless otherwise stated, for each question: \n",
    "* Use `count_documents` to display the number of documents contained in the result.\n",
    "* Display the first document in the results using `pprint`.\n",
    "* Convert the result to a Pandas DataFrame, print the number of rows in the DataFrame, and display the first 10 rows."
   ]
  },
  {
   "cell_type": "markdown",
   "id": "314bd884",
   "metadata": {},
   "source": [
    "### 1. Which establishments have a hygiene score equal to 20?"
   ]
  },
  {
   "cell_type": "code",
   "execution_count": 215,
   "id": "c2da7648",
   "metadata": {},
   "outputs": [
    {
     "name": "stdout",
     "output_type": "stream",
     "text": [
      "{'_id': ObjectId('641d118b9a659a6a01be7942'), 'BusinessName': 'The Chase Rest Home', 'scores': {'Hygiene': 20}}\n"
     ]
    }
   ],
   "source": [
    "# Find the establishments with a hygiene score of 20\n",
    "query ={'scores.Hygiene': 20}\n",
    "field={'scores.Hygiene': 1, 'BusinessName': 1}\n",
    "#query = [{'$group': {'_id': \"$country\", 'count': { '$sum': 1 }}}]\n",
    "results=estab.find(query,field)\n",
    "\n",
    "#for result in results:\n",
    "   #print(result)\n",
    "print(results[0])\n"
   ]
  },
  {
   "cell_type": "code",
   "execution_count": 216,
   "id": "c4f7e3f9",
   "metadata": {},
   "outputs": [
    {
     "name": "stdout",
     "output_type": "stream",
     "text": [
      "Number of documents in result: 41\n",
      "{'BusinessName': 'The Chase Rest Home',\n",
      " '_id': ObjectId('641d118b9a659a6a01be7942'),\n",
      " 'scores': {'Hygiene': 20}}\n"
     ]
    }
   ],
   "source": [
    "# Use count_documents to display the number of documents in the result\n",
    "print(\"Number of documents in result:\", estab.count_documents(query))\n",
    "\n",
    "# Display the first document in the results using pprint\n",
    "pprint(estab.find_one(query, field))\n"
   ]
  },
  {
   "cell_type": "code",
   "execution_count": 217,
   "id": "8440da75",
   "metadata": {},
   "outputs": [
    {
     "name": "stdout",
     "output_type": "stream",
     "text": [
      "{'_id': ObjectId('641d118b9a659a6a01be7942'), 'BusinessName': 'The Chase Rest Home', 'scores': {'Hygiene': 20}}\n"
     ]
    }
   ],
   "source": [
    "\n",
    "print(results[0])"
   ]
  },
  {
   "cell_type": "code",
   "execution_count": 218,
   "id": "a6e5cece",
   "metadata": {},
   "outputs": [
    {
     "name": "stdout",
     "output_type": "stream",
     "text": [
      "Rows in DataFrame:  41\n"
     ]
    },
    {
     "data": {
      "text/html": [
       "<div>\n",
       "<style scoped>\n",
       "    .dataframe tbody tr th:only-of-type {\n",
       "        vertical-align: middle;\n",
       "    }\n",
       "\n",
       "    .dataframe tbody tr th {\n",
       "        vertical-align: top;\n",
       "    }\n",
       "\n",
       "    .dataframe thead th {\n",
       "        text-align: right;\n",
       "    }\n",
       "</style>\n",
       "<table border=\"1\" class=\"dataframe\">\n",
       "  <thead>\n",
       "    <tr style=\"text-align: right;\">\n",
       "      <th></th>\n",
       "      <th>_id</th>\n",
       "      <th>BusinessName</th>\n",
       "      <th>scores</th>\n",
       "    </tr>\n",
       "  </thead>\n",
       "  <tbody>\n",
       "    <tr>\n",
       "      <th>0</th>\n",
       "      <td>641d118b9a659a6a01be7942</td>\n",
       "      <td>The Chase Rest Home</td>\n",
       "      <td>{'Hygiene': 20}</td>\n",
       "    </tr>\n",
       "    <tr>\n",
       "      <th>1</th>\n",
       "      <td>641d118b9a659a6a01be7cc3</td>\n",
       "      <td>Brenalwood</td>\n",
       "      <td>{'Hygiene': 20}</td>\n",
       "    </tr>\n",
       "    <tr>\n",
       "      <th>2</th>\n",
       "      <td>641d118b9a659a6a01be7fe0</td>\n",
       "      <td>Melrose Hotel</td>\n",
       "      <td>{'Hygiene': 20}</td>\n",
       "    </tr>\n",
       "    <tr>\n",
       "      <th>3</th>\n",
       "      <td>641d118c9a659a6a01be81bd</td>\n",
       "      <td>Seaford Pizza</td>\n",
       "      <td>{'Hygiene': 20}</td>\n",
       "    </tr>\n",
       "    <tr>\n",
       "      <th>4</th>\n",
       "      <td>641d118c9a659a6a01be81cb</td>\n",
       "      <td>Golden Palace</td>\n",
       "      <td>{'Hygiene': 20}</td>\n",
       "    </tr>\n",
       "    <tr>\n",
       "      <th>5</th>\n",
       "      <td>641d118c9a659a6a01be8b6e</td>\n",
       "      <td>Ashby's Butchers</td>\n",
       "      <td>{'Hygiene': 20}</td>\n",
       "    </tr>\n",
       "    <tr>\n",
       "      <th>6</th>\n",
       "      <td>641d118c9a659a6a01be8d8f</td>\n",
       "      <td>South Sea Express Cuisine</td>\n",
       "      <td>{'Hygiene': 20}</td>\n",
       "    </tr>\n",
       "    <tr>\n",
       "      <th>7</th>\n",
       "      <td>641d118d9a659a6a01bea2c0</td>\n",
       "      <td>Golden Palace</td>\n",
       "      <td>{'Hygiene': 20}</td>\n",
       "    </tr>\n",
       "    <tr>\n",
       "      <th>8</th>\n",
       "      <td>641d118d9a659a6a01bea707</td>\n",
       "      <td>The Tulip Tree</td>\n",
       "      <td>{'Hygiene': 20}</td>\n",
       "    </tr>\n",
       "    <tr>\n",
       "      <th>9</th>\n",
       "      <td>641d118d9a659a6a01beaf1c</td>\n",
       "      <td>F &amp; S</td>\n",
       "      <td>{'Hygiene': 20}</td>\n",
       "    </tr>\n",
       "  </tbody>\n",
       "</table>\n",
       "</div>"
      ],
      "text/plain": [
       "                        _id               BusinessName           scores\n",
       "0  641d118b9a659a6a01be7942        The Chase Rest Home  {'Hygiene': 20}\n",
       "1  641d118b9a659a6a01be7cc3                 Brenalwood  {'Hygiene': 20}\n",
       "2  641d118b9a659a6a01be7fe0              Melrose Hotel  {'Hygiene': 20}\n",
       "3  641d118c9a659a6a01be81bd              Seaford Pizza  {'Hygiene': 20}\n",
       "4  641d118c9a659a6a01be81cb              Golden Palace  {'Hygiene': 20}\n",
       "5  641d118c9a659a6a01be8b6e           Ashby's Butchers  {'Hygiene': 20}\n",
       "6  641d118c9a659a6a01be8d8f  South Sea Express Cuisine  {'Hygiene': 20}\n",
       "7  641d118d9a659a6a01bea2c0              Golden Palace  {'Hygiene': 20}\n",
       "8  641d118d9a659a6a01bea707             The Tulip Tree  {'Hygiene': 20}\n",
       "9  641d118d9a659a6a01beaf1c                      F & S  {'Hygiene': 20}"
      ]
     },
     "execution_count": 218,
     "metadata": {},
     "output_type": "execute_result"
    }
   ],
   "source": [
    "import pandas as pd\n",
    "# Convert the result to a Pandas DataFrame\n",
    "result_df = pd.DataFrame(results)\n",
    "\n",
    "\n",
    "# Display the number of rows in the DataFrame\n",
    "print(\"Rows in DataFrame: \", len(result_df))\n",
    "\n",
    "# Display the first 10 rows of the DataFrame\n",
    "result_df.head(10)"
   ]
  },
  {
   "cell_type": "markdown",
   "id": "0ef4395a",
   "metadata": {},
   "source": [
    "### 2. Which establishments in London have a `RatingValue` greater than or equal to 4?"
   ]
  },
  {
   "cell_type": "code",
   "execution_count": 219,
   "id": "93c63829",
   "metadata": {},
   "outputs": [
    {
     "name": "stdout",
     "output_type": "stream",
     "text": [
      "Number of documents in result: 34\n",
      "[{'LocalAuthorityName': 'City of London Corporation',\n",
      "  'RatingValue': '4',\n",
      "  '_id': ObjectId('641d118c9a659a6a01be936b')},\n",
      " {'LocalAuthorityName': 'City of London Corporation',\n",
      "  'RatingValue': '4',\n",
      "  '_id': ObjectId('641d118d9a659a6a01bea1dc')},\n",
      " {'LocalAuthorityName': 'City of London Corporation',\n",
      "  'RatingValue': '4',\n",
      "  '_id': ObjectId('641d118f9a659a6a01bedbcb')},\n",
      " {'LocalAuthorityName': 'City of London Corporation',\n",
      "  'RatingValue': '4',\n",
      "  '_id': ObjectId('641d11909a659a6a01bee29a')},\n",
      " {'LocalAuthorityName': 'City of London Corporation',\n",
      "  'RatingValue': '5',\n",
      "  '_id': ObjectId('641d118d9a659a6a01be968b')},\n",
      " {'LocalAuthorityName': 'City of London Corporation',\n",
      "  'RatingValue': '5',\n",
      "  '_id': ObjectId('641d118d9a659a6a01beafdf')},\n",
      " {'LocalAuthorityName': 'City of London Corporation',\n",
      "  'RatingValue': '5',\n",
      "  '_id': ObjectId('641d118d9a659a6a01beafe6')},\n",
      " {'LocalAuthorityName': 'City of London Corporation',\n",
      "  'RatingValue': '5',\n",
      "  '_id': ObjectId('641d118e9a659a6a01beb6ed')},\n",
      " {'LocalAuthorityName': 'City of London Corporation',\n",
      "  'RatingValue': '5',\n",
      "  '_id': ObjectId('641d118f9a659a6a01bed801')},\n",
      " {'LocalAuthorityName': 'City of London Corporation',\n",
      "  'RatingValue': '5',\n",
      "  '_id': ObjectId('641d118f9a659a6a01bedbe5')},\n",
      " {'LocalAuthorityName': 'City of London Corporation',\n",
      "  'RatingValue': '5',\n",
      "  '_id': ObjectId('641d118f9a659a6a01bedbe6')},\n",
      " {'LocalAuthorityName': 'City of London Corporation',\n",
      "  'RatingValue': '5',\n",
      "  '_id': ObjectId('641d118f9a659a6a01bedbe9')},\n",
      " {'LocalAuthorityName': 'City of London Corporation',\n",
      "  'RatingValue': '5',\n",
      "  '_id': ObjectId('641d11909a659a6a01beddc4')},\n",
      " {'LocalAuthorityName': 'City of London Corporation',\n",
      "  'RatingValue': '5',\n",
      "  '_id': ObjectId('641d11909a659a6a01beddc5')},\n",
      " {'LocalAuthorityName': 'City of London Corporation',\n",
      "  'RatingValue': '5',\n",
      "  '_id': ObjectId('641d11909a659a6a01bee068')},\n",
      " {'LocalAuthorityName': 'City of London Corporation',\n",
      "  'RatingValue': '5',\n",
      "  '_id': ObjectId('641d11909a659a6a01bee274')},\n",
      " {'LocalAuthorityName': 'City of London Corporation',\n",
      "  'RatingValue': '5',\n",
      "  '_id': ObjectId('641d11909a659a6a01bee29f')},\n",
      " {'LocalAuthorityName': 'City of London Corporation',\n",
      "  'RatingValue': '5',\n",
      "  '_id': ObjectId('641d11909a659a6a01bee462')},\n",
      " {'LocalAuthorityName': 'City of London Corporation',\n",
      "  'RatingValue': '5',\n",
      "  '_id': ObjectId('641d11909a659a6a01bee4ae')},\n",
      " {'LocalAuthorityName': 'City of London Corporation',\n",
      "  'RatingValue': '5',\n",
      "  '_id': ObjectId('641d11909a659a6a01bee4af')},\n",
      " {'LocalAuthorityName': 'City of London Corporation',\n",
      "  'RatingValue': '5',\n",
      "  '_id': ObjectId('641d11909a659a6a01bee4b0')},\n",
      " {'LocalAuthorityName': 'City of London Corporation',\n",
      "  'RatingValue': '5',\n",
      "  '_id': ObjectId('641d11909a659a6a01bee4b1')},\n",
      " {'LocalAuthorityName': 'City of London Corporation',\n",
      "  'RatingValue': '5',\n",
      "  '_id': ObjectId('641d11909a659a6a01bee4b2')},\n",
      " {'LocalAuthorityName': 'City of London Corporation',\n",
      "  'RatingValue': '5',\n",
      "  '_id': ObjectId('641d11909a659a6a01bee4b3')},\n",
      " {'LocalAuthorityName': 'City of London Corporation',\n",
      "  'RatingValue': '5',\n",
      "  '_id': ObjectId('641d11909a659a6a01bee4b4')},\n",
      " {'LocalAuthorityName': 'City of London Corporation',\n",
      "  'RatingValue': '5',\n",
      "  '_id': ObjectId('641d11909a659a6a01bee4b5')},\n",
      " {'LocalAuthorityName': 'City of London Corporation',\n",
      "  'RatingValue': '5',\n",
      "  '_id': ObjectId('641d11909a659a6a01bee4b6')},\n",
      " {'LocalAuthorityName': 'City of London Corporation',\n",
      "  'RatingValue': '5',\n",
      "  '_id': ObjectId('641d11909a659a6a01bee4b7')},\n",
      " {'LocalAuthorityName': 'City of London Corporation',\n",
      "  'RatingValue': '5',\n",
      "  '_id': ObjectId('641d11909a659a6a01bee4b8')},\n",
      " {'LocalAuthorityName': 'City of London Corporation',\n",
      "  'RatingValue': '5',\n",
      "  '_id': ObjectId('641d11909a659a6a01bee4b9')},\n",
      " {'LocalAuthorityName': 'City of London Corporation',\n",
      "  'RatingValue': '5',\n",
      "  '_id': ObjectId('641d11909a659a6a01bee4ba')},\n",
      " {'LocalAuthorityName': 'City of London Corporation',\n",
      "  'RatingValue': '5',\n",
      "  '_id': ObjectId('641d11909a659a6a01bee4c0')},\n",
      " {'LocalAuthorityName': 'City of London Corporation',\n",
      "  'RatingValue': '5',\n",
      "  '_id': ObjectId('641d11909a659a6a01bee4c4')},\n",
      " {'LocalAuthorityName': 'City of London Corporation',\n",
      "  'RatingValue': 'AwaitingInspection',\n",
      "  '_id': ObjectId('641d118f9a659a6a01bed800')}]\n"
     ]
    }
   ],
   "source": [
    "# Find the establishments with London as the Local Authority and has a RatingValue greater than or equal to 4.\n",
    "\n",
    "query={'RatingValue': {'$gte': '4'}, 'LocalAuthorityName': {'$regex': 'London'}}\n",
    "\n",
    "field={'LocalAuthorityName': 1,'RatingValue': 1}\n",
    "\n",
    "sort=[('RatingValue', 1), ('LocalAuthorityName', 1)]\n",
    "\n",
    "# Use count_documents to display the number of documents in the result\n",
    "print(\"Number of documents in result:\", estab.count_documents(query))\n",
    "\n",
    "rating=list(estab.find(query, field).sort(sort))\n",
    "\n",
    "# Display the first document in the results using pprint\n",
    "pprint(rating)"
   ]
  },
  {
   "cell_type": "code",
   "execution_count": 220,
   "id": "07e24ccb",
   "metadata": {},
   "outputs": [
    {
     "name": "stdout",
     "output_type": "stream",
     "text": [
      "Rows in DataFrame:  34\n"
     ]
    },
    {
     "data": {
      "text/html": [
       "<div>\n",
       "<style scoped>\n",
       "    .dataframe tbody tr th:only-of-type {\n",
       "        vertical-align: middle;\n",
       "    }\n",
       "\n",
       "    .dataframe tbody tr th {\n",
       "        vertical-align: top;\n",
       "    }\n",
       "\n",
       "    .dataframe thead th {\n",
       "        text-align: right;\n",
       "    }\n",
       "</style>\n",
       "<table border=\"1\" class=\"dataframe\">\n",
       "  <thead>\n",
       "    <tr style=\"text-align: right;\">\n",
       "      <th></th>\n",
       "      <th>_id</th>\n",
       "      <th>RatingValue</th>\n",
       "      <th>LocalAuthorityName</th>\n",
       "    </tr>\n",
       "  </thead>\n",
       "  <tbody>\n",
       "    <tr>\n",
       "      <th>0</th>\n",
       "      <td>641d118c9a659a6a01be936b</td>\n",
       "      <td>4</td>\n",
       "      <td>City of London Corporation</td>\n",
       "    </tr>\n",
       "    <tr>\n",
       "      <th>1</th>\n",
       "      <td>641d118d9a659a6a01bea1dc</td>\n",
       "      <td>4</td>\n",
       "      <td>City of London Corporation</td>\n",
       "    </tr>\n",
       "    <tr>\n",
       "      <th>2</th>\n",
       "      <td>641d118f9a659a6a01bedbcb</td>\n",
       "      <td>4</td>\n",
       "      <td>City of London Corporation</td>\n",
       "    </tr>\n",
       "    <tr>\n",
       "      <th>3</th>\n",
       "      <td>641d11909a659a6a01bee29a</td>\n",
       "      <td>4</td>\n",
       "      <td>City of London Corporation</td>\n",
       "    </tr>\n",
       "    <tr>\n",
       "      <th>4</th>\n",
       "      <td>641d118d9a659a6a01be968b</td>\n",
       "      <td>5</td>\n",
       "      <td>City of London Corporation</td>\n",
       "    </tr>\n",
       "    <tr>\n",
       "      <th>5</th>\n",
       "      <td>641d118d9a659a6a01beafdf</td>\n",
       "      <td>5</td>\n",
       "      <td>City of London Corporation</td>\n",
       "    </tr>\n",
       "    <tr>\n",
       "      <th>6</th>\n",
       "      <td>641d118d9a659a6a01beafe6</td>\n",
       "      <td>5</td>\n",
       "      <td>City of London Corporation</td>\n",
       "    </tr>\n",
       "    <tr>\n",
       "      <th>7</th>\n",
       "      <td>641d118e9a659a6a01beb6ed</td>\n",
       "      <td>5</td>\n",
       "      <td>City of London Corporation</td>\n",
       "    </tr>\n",
       "    <tr>\n",
       "      <th>8</th>\n",
       "      <td>641d118f9a659a6a01bed801</td>\n",
       "      <td>5</td>\n",
       "      <td>City of London Corporation</td>\n",
       "    </tr>\n",
       "    <tr>\n",
       "      <th>9</th>\n",
       "      <td>641d118f9a659a6a01bedbe5</td>\n",
       "      <td>5</td>\n",
       "      <td>City of London Corporation</td>\n",
       "    </tr>\n",
       "  </tbody>\n",
       "</table>\n",
       "</div>"
      ],
      "text/plain": [
       "                        _id RatingValue          LocalAuthorityName\n",
       "0  641d118c9a659a6a01be936b           4  City of London Corporation\n",
       "1  641d118d9a659a6a01bea1dc           4  City of London Corporation\n",
       "2  641d118f9a659a6a01bedbcb           4  City of London Corporation\n",
       "3  641d11909a659a6a01bee29a           4  City of London Corporation\n",
       "4  641d118d9a659a6a01be968b           5  City of London Corporation\n",
       "5  641d118d9a659a6a01beafdf           5  City of London Corporation\n",
       "6  641d118d9a659a6a01beafe6           5  City of London Corporation\n",
       "7  641d118e9a659a6a01beb6ed           5  City of London Corporation\n",
       "8  641d118f9a659a6a01bed801           5  City of London Corporation\n",
       "9  641d118f9a659a6a01bedbe5           5  City of London Corporation"
      ]
     },
     "execution_count": 220,
     "metadata": {},
     "output_type": "execute_result"
    }
   ],
   "source": [
    "# Convert the result to a Pandas DataFrame\n",
    "\n",
    "result_df = pd.DataFrame(rating)\n",
    "\n",
    "# Display the number of rows in the DataFrame\n",
    "\n",
    "print(\"Rows in DataFrame: \", len(result_df))\n",
    "\n",
    "# Display the first 10 rows of the DataFrame\n",
    "result_df.head(10)"
   ]
  },
  {
   "cell_type": "markdown",
   "id": "4e570caf",
   "metadata": {},
   "source": [
    "### 3. What are the top 5 establishments with a `RatingValue` rating value of '5', sorted by lowest hygiene score, nearest to the new restaurant added, \"Penang Flavours\"?"
   ]
  },
  {
   "cell_type": "code",
   "execution_count": 221,
   "id": "7f599f3d",
   "metadata": {},
   "outputs": [
    {
     "name": "stdout",
     "output_type": "stream",
     "text": [
      "latitube for \"Penang Flavours\" is 51.490142, longitube for \"Penang Flavours\" is 0.08384 \n",
      "latitube for query is [51.480142, 51.500142], longitube for query is [0.07384, 0.09383999999999999]\n"
     ]
    }
   ],
   "source": [
    "lat =estab.find_one({\"BusinessName\":\"Penang Flavours\"},{'geocode.latitude':1})['geocode']['latitude']\n",
    "long =estab.find_one({\"BusinessName\":\"Penang Flavours\"},{'geocode.longitude':1})['geocode']['longitude']\n",
    "lat=float(lat)\n",
    "long=float(long)\n",
    "ds = 0.01\n",
    "print(f'latitube for \"Penang Flavours\" is {lat}, longitube for \"Penang Flavours\" is {long} ')\n",
    "print(f'latitube for query is [{lat-ds}, {lat+ds}], longitube for query is [{long-ds}, {long+ds}]')"
   ]
  },
  {
   "cell_type": "code",
   "execution_count": 222,
   "id": "42768980",
   "metadata": {},
   "outputs": [],
   "source": [
    "# Search within 0.01 degree on either side of the latitude and longitude.\n",
    "# Rating value must equal 5\n",
    "# Sort by hygiene score\n",
    "\n",
    "lat_b=str(lat-ds)\n",
    "lat_t=str(lat+ds)\n",
    "long_b=str(long-ds)\n",
    "long_t=str(long+ds)\n",
    "query={'geocode.latitude': \n",
    "        {'$gte':lat_b, '$lte':lat_t},'geocode.longitude': \n",
    "            {'$gte': long_b, '$lte': long_t}, 'RatingValue': '5'}\n",
    "\n",
    "field={'BusinessName': 1, 'scores': 1, 'geocode': 1} \n",
    "\n",
    "limit=5\n",
    "sort = [('scores.Hygiene', 1)]"
   ]
  },
  {
   "cell_type": "code",
   "execution_count": 223,
   "id": "62f1573d",
   "metadata": {},
   "outputs": [
    {
     "name": "stdout",
     "output_type": "stream",
     "text": [
      "Number of documents in result: 87\n"
     ]
    }
   ],
   "source": [
    "hygiene=list(estab.find(query, field).sort(sort).limit(limit))\n",
    "#hygiene=list(estab.find(query).sort(sort).limit(limit))\n",
    "\n",
    "# Use count_documents to display the number of documents in the result\n",
    "print(\"Number of documents in result:\", estab.count_documents(query))"
   ]
  },
  {
   "cell_type": "code",
   "execution_count": 224,
   "id": "a6ad16f7",
   "metadata": {},
   "outputs": [
    {
     "name": "stdout",
     "output_type": "stream",
     "text": [
      "Rows in DataFrame:  5\n"
     ]
    },
    {
     "data": {
      "text/html": [
       "<div>\n",
       "<style scoped>\n",
       "    .dataframe tbody tr th:only-of-type {\n",
       "        vertical-align: middle;\n",
       "    }\n",
       "\n",
       "    .dataframe tbody tr th {\n",
       "        vertical-align: top;\n",
       "    }\n",
       "\n",
       "    .dataframe thead th {\n",
       "        text-align: right;\n",
       "    }\n",
       "</style>\n",
       "<table border=\"1\" class=\"dataframe\">\n",
       "  <thead>\n",
       "    <tr style=\"text-align: right;\">\n",
       "      <th></th>\n",
       "      <th>_id</th>\n",
       "      <th>BusinessName</th>\n",
       "      <th>scores</th>\n",
       "      <th>geocode</th>\n",
       "    </tr>\n",
       "  </thead>\n",
       "  <tbody>\n",
       "    <tr>\n",
       "      <th>0</th>\n",
       "      <td>641d118f9a659a6a01bed18e</td>\n",
       "      <td>Iceland</td>\n",
       "      <td>{'Hygiene': 0, 'Structural': 5, 'ConfidenceInM...</td>\n",
       "      <td>{'longitude': '0.0924199968576431', 'latitude'...</td>\n",
       "    </tr>\n",
       "    <tr>\n",
       "      <th>1</th>\n",
       "      <td>641d118f9a659a6a01bed19f</td>\n",
       "      <td>Howe and Co Fish and Chips - Van 17</td>\n",
       "      <td>{'Hygiene': 0, 'Structural': 0, 'ConfidenceInM...</td>\n",
       "      <td>{'longitude': '0.0925370007753372', 'latitude'...</td>\n",
       "    </tr>\n",
       "    <tr>\n",
       "      <th>2</th>\n",
       "      <td>641d118f9a659a6a01bed1bc</td>\n",
       "      <td>Volunteer</td>\n",
       "      <td>{'Hygiene': 0, 'Structural': 0, 'ConfidenceInM...</td>\n",
       "      <td>{'longitude': '0.09208', 'latitude': '51.48734...</td>\n",
       "    </tr>\n",
       "    <tr>\n",
       "      <th>3</th>\n",
       "      <td>641d118f9a659a6a01bed1d3</td>\n",
       "      <td>Plumstead Manor Nursery</td>\n",
       "      <td>{'Hygiene': 0, 'Structural': 0, 'ConfidenceInM...</td>\n",
       "      <td>{'longitude': '0.0859939977526665', 'latitude'...</td>\n",
       "    </tr>\n",
       "    <tr>\n",
       "      <th>4</th>\n",
       "      <td>641d118f9a659a6a01bed1d7</td>\n",
       "      <td>Atlantic Fish Bar</td>\n",
       "      <td>{'Hygiene': 0, 'Structural': 0, 'ConfidenceInM...</td>\n",
       "      <td>{'longitude': '0.0912164', 'latitude': '51.486...</td>\n",
       "    </tr>\n",
       "  </tbody>\n",
       "</table>\n",
       "</div>"
      ],
      "text/plain": [
       "                        _id                         BusinessName  \\\n",
       "0  641d118f9a659a6a01bed18e                              Iceland   \n",
       "1  641d118f9a659a6a01bed19f  Howe and Co Fish and Chips - Van 17   \n",
       "2  641d118f9a659a6a01bed1bc                            Volunteer   \n",
       "3  641d118f9a659a6a01bed1d3              Plumstead Manor Nursery   \n",
       "4  641d118f9a659a6a01bed1d7                    Atlantic Fish Bar   \n",
       "\n",
       "                                              scores  \\\n",
       "0  {'Hygiene': 0, 'Structural': 5, 'ConfidenceInM...   \n",
       "1  {'Hygiene': 0, 'Structural': 0, 'ConfidenceInM...   \n",
       "2  {'Hygiene': 0, 'Structural': 0, 'ConfidenceInM...   \n",
       "3  {'Hygiene': 0, 'Structural': 0, 'ConfidenceInM...   \n",
       "4  {'Hygiene': 0, 'Structural': 0, 'ConfidenceInM...   \n",
       "\n",
       "                                             geocode  \n",
       "0  {'longitude': '0.0924199968576431', 'latitude'...  \n",
       "1  {'longitude': '0.0925370007753372', 'latitude'...  \n",
       "2  {'longitude': '0.09208', 'latitude': '51.48734...  \n",
       "3  {'longitude': '0.0859939977526665', 'latitude'...  \n",
       "4  {'longitude': '0.0912164', 'latitude': '51.486...  "
      ]
     },
     "execution_count": 224,
     "metadata": {},
     "output_type": "execute_result"
    }
   ],
   "source": [
    "# Convert result to Pandas DataFrame\n",
    "\n",
    "hygiene_df = pd.DataFrame(hygiene)\n",
    "\n",
    "print(\"Rows in DataFrame: \", len(hygiene_df))\n",
    "\n",
    "hygiene_df.head()\n"
   ]
  },
  {
   "cell_type": "markdown",
   "id": "67281254",
   "metadata": {},
   "source": [
    "### 4. How many establishments in each Local Authority area have a hygiene score of 0?"
   ]
  },
  {
   "cell_type": "code",
   "execution_count": 225,
   "id": "4eeb227e",
   "metadata": {},
   "outputs": [],
   "source": [
    "# Create a pipeline that: \n",
    "# 1. Matches establishments with a hygiene score of 0\n",
    "# 2. Groups the matches by Local Authority\n",
    "# 3. Sorts the matches from highest to lowest\n",
    "\n",
    "match_query = {'$match': {'scores.Hygiene': 0}}\n",
    "\n",
    "group_query = {'$group': {'_id': \"$LocalAuthorityName\", \n",
    "                          'count': { '$sum': 1 }}}\n",
    "\n",
    "sort_values = {'$sort': { 'count': -1}}\n",
    "\n",
    "# Put the pipeline together\n",
    "pipeline = [match_query, group_query, sort_values]\n"
   ]
  },
  {
   "cell_type": "code",
   "execution_count": 226,
   "id": "d8aab364",
   "metadata": {},
   "outputs": [
    {
     "name": "stdout",
     "output_type": "stream",
     "text": [
      "Number of documents in result:  55\n",
      "[{'_id': 'Thanet', 'count': 1130},\n",
      " {'_id': 'Greenwich', 'count': 882},\n",
      " {'_id': 'Maidstone', 'count': 713},\n",
      " {'_id': 'Newham', 'count': 711},\n",
      " {'_id': 'Swale', 'count': 686},\n",
      " {'_id': 'Chelmsford', 'count': 680},\n",
      " {'_id': 'Medway', 'count': 672},\n",
      " {'_id': 'Bexley', 'count': 607},\n",
      " {'_id': 'Southend-On-Sea', 'count': 586},\n",
      " {'_id': 'Tendring', 'count': 542}]\n"
     ]
    }
   ],
   "source": [
    "results = list(estab.aggregate(pipeline))\n",
    "\n",
    "# Print the number of documents in the result\n",
    "print(\"Number of documents in result: \", len(results))\n",
    "\n",
    "\n",
    "# Print the first 10 results\n",
    "pprint(results[0:10])"
   ]
  },
  {
   "cell_type": "code",
   "execution_count": 227,
   "id": "b215babd",
   "metadata": {},
   "outputs": [
    {
     "name": "stdout",
     "output_type": "stream",
     "text": [
      "Rows in DataFrame:  55\n"
     ]
    },
    {
     "data": {
      "text/html": [
       "<div>\n",
       "<style scoped>\n",
       "    .dataframe tbody tr th:only-of-type {\n",
       "        vertical-align: middle;\n",
       "    }\n",
       "\n",
       "    .dataframe tbody tr th {\n",
       "        vertical-align: top;\n",
       "    }\n",
       "\n",
       "    .dataframe thead th {\n",
       "        text-align: right;\n",
       "    }\n",
       "</style>\n",
       "<table border=\"1\" class=\"dataframe\">\n",
       "  <thead>\n",
       "    <tr style=\"text-align: right;\">\n",
       "      <th></th>\n",
       "      <th>_id</th>\n",
       "      <th>count</th>\n",
       "    </tr>\n",
       "  </thead>\n",
       "  <tbody>\n",
       "    <tr>\n",
       "      <th>0</th>\n",
       "      <td>Thanet</td>\n",
       "      <td>1130</td>\n",
       "    </tr>\n",
       "    <tr>\n",
       "      <th>1</th>\n",
       "      <td>Greenwich</td>\n",
       "      <td>882</td>\n",
       "    </tr>\n",
       "    <tr>\n",
       "      <th>2</th>\n",
       "      <td>Maidstone</td>\n",
       "      <td>713</td>\n",
       "    </tr>\n",
       "    <tr>\n",
       "      <th>3</th>\n",
       "      <td>Newham</td>\n",
       "      <td>711</td>\n",
       "    </tr>\n",
       "    <tr>\n",
       "      <th>4</th>\n",
       "      <td>Swale</td>\n",
       "      <td>686</td>\n",
       "    </tr>\n",
       "    <tr>\n",
       "      <th>5</th>\n",
       "      <td>Chelmsford</td>\n",
       "      <td>680</td>\n",
       "    </tr>\n",
       "    <tr>\n",
       "      <th>6</th>\n",
       "      <td>Medway</td>\n",
       "      <td>672</td>\n",
       "    </tr>\n",
       "    <tr>\n",
       "      <th>7</th>\n",
       "      <td>Bexley</td>\n",
       "      <td>607</td>\n",
       "    </tr>\n",
       "    <tr>\n",
       "      <th>8</th>\n",
       "      <td>Southend-On-Sea</td>\n",
       "      <td>586</td>\n",
       "    </tr>\n",
       "    <tr>\n",
       "      <th>9</th>\n",
       "      <td>Tendring</td>\n",
       "      <td>542</td>\n",
       "    </tr>\n",
       "  </tbody>\n",
       "</table>\n",
       "</div>"
      ],
      "text/plain": [
       "               _id  count\n",
       "0           Thanet   1130\n",
       "1        Greenwich    882\n",
       "2        Maidstone    713\n",
       "3           Newham    711\n",
       "4            Swale    686\n",
       "5       Chelmsford    680\n",
       "6           Medway    672\n",
       "7           Bexley    607\n",
       "8  Southend-On-Sea    586\n",
       "9         Tendring    542"
      ]
     },
     "execution_count": 227,
     "metadata": {},
     "output_type": "execute_result"
    }
   ],
   "source": [
    "# Convert the result to a Pandas DataFrame\n",
    "result_df = pd.DataFrame(results)\n",
    "\n",
    "# Display the number of rows in the DataFrame\n",
    "print(\"Rows in DataFrame: \", len(result_df))\n",
    "\n",
    "# Display the first 10 rows of the DataFrame\n",
    "result_df.head(10)"
   ]
  }
 ],
 "metadata": {
  "kernelspec": {
   "display_name": "Python 3",
   "language": "python",
   "name": "python3"
  },
  "language_info": {
   "codemirror_mode": {
    "name": "ipython",
    "version": 3
   },
   "file_extension": ".py",
   "mimetype": "text/x-python",
   "name": "python",
   "nbconvert_exporter": "python",
   "pygments_lexer": "ipython3",
   "version": "3.9.13"
  }
 },
 "nbformat": 4,
 "nbformat_minor": 5
}
